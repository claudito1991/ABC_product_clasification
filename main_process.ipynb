{
 "cells": [
  {
   "cell_type": "code",
   "execution_count": 1,
   "metadata": {},
   "outputs": [],
   "source": [
    "import pandas as pd\n",
    "import main_process as mp\n",
    "import classificationABC as cls"
   ]
  },
  {
   "cell_type": "code",
   "execution_count": 6,
   "metadata": {},
   "outputs": [],
   "source": [
    "main_file_path = \"punto_de_pedido.xlsx\"\n",
    "price_file_path = \"20230518130636_PRV-1_FECVIG-20230517_plantillaPreciosCompra.xlsx\""
   ]
  },
  {
   "cell_type": "code",
   "execution_count": 7,
   "metadata": {},
   "outputs": [],
   "source": [
    "base_dataframe = cls.load_dataset(main_file_path)"
   ]
  },
  {
   "cell_type": "code",
   "execution_count": 9,
   "metadata": {},
   "outputs": [
    {
     "ename": "AttributeError",
     "evalue": "'NoneType' object has no attribute 'set_index'",
     "output_type": "error",
     "traceback": [
      "\u001b[1;31m---------------------------------------------------------------------------\u001b[0m",
      "\u001b[1;31mAttributeError\u001b[0m                            Traceback (most recent call last)",
      "Cell \u001b[1;32mIn[9], line 1\u001b[0m\n\u001b[1;32m----> 1\u001b[0m main_file_path \u001b[39m=\u001b[39m mp\u001b[39m.\u001b[39;49mmain_process(main_file_path,\u001b[39m'\u001b[39;49m\u001b[39mARTÍCULO\u001b[39;49m\u001b[39m'\u001b[39;49m,\u001b[39m'\u001b[39;49m\u001b[39mDESCRIPCIÓN\u001b[39;49m\u001b[39m'\u001b[39;49m,\u001b[39m'\u001b[39;49m\u001b[39mVTA. PROMEDIO\u001b[39;49m\u001b[39m'\u001b[39;49m,\u001b[39m'\u001b[39;49m\u001b[39mSTOCK\u001b[39;49m\u001b[39m'\u001b[39;49m, price_file_path,\u001b[39m'\u001b[39;49m\u001b[39mArtículo\u001b[39;49m\u001b[39m'\u001b[39;49m,\u001b[39m'\u001b[39;49m\u001b[39mPrecio Neto + I. Internos\u001b[39;49m\u001b[39m'\u001b[39;49m)\n",
      "File \u001b[1;32mc:\\Users\\TERMINAL\\Desktop\\Development\\clasificador_abc\\main_process.py:14\u001b[0m, in \u001b[0;36mmain_process\u001b[1;34m(file_path, art_col_name, descrip_col_name, vpd_col_name, stock_col_name, price_file_path, price_art_col_name, price_price_col_name)\u001b[0m\n\u001b[0;32m     12\u001b[0m df_pc_raw \u001b[39m=\u001b[39m pd\u001b[39m.\u001b[39mread_excel(price_file_path, header \u001b[39m=\u001b[39m \u001b[39m1\u001b[39m)\n\u001b[0;32m     13\u001b[0m df_pc_filtered \u001b[39m=\u001b[39m df_pc_raw[[price_art_col_name,price_price_col_name]]\n\u001b[1;32m---> 14\u001b[0m stock_classified_with_value \u001b[39m=\u001b[39m \u001b[39mcls\u001b[39;49m\u001b[39m.\u001b[39;49mstock_with_price(result_df,\u001b[39m'\u001b[39;49m\u001b[39marticulo\u001b[39;49m\u001b[39m'\u001b[39;49m,df_pc_filtered,\u001b[39m'\u001b[39;49m\u001b[39mArtículo\u001b[39;49m\u001b[39m'\u001b[39;49m,\u001b[39m'\u001b[39;49m\u001b[39mValorizado\u001b[39;49m\u001b[39m'\u001b[39;49m,\u001b[39m'\u001b[39;49m\u001b[39mPrecio Neto + I. Internos\u001b[39;49m\u001b[39m'\u001b[39;49m,\u001b[39m'\u001b[39;49m\u001b[39mstock\u001b[39;49m\u001b[39m'\u001b[39;49m)\n\u001b[0;32m     15\u001b[0m df_dict \u001b[39m=\u001b[39m \u001b[39mcls\u001b[39m\u001b[39m.\u001b[39mdataframe_dictionary(stock_classified_with_value,\u001b[39m'\u001b[39m\u001b[39mcategoria\u001b[39m\u001b[39m'\u001b[39m)\n\u001b[0;32m     16\u001b[0m \u001b[39mreturn\u001b[39;00m df_dict\n",
      "File \u001b[1;32mc:\\Users\\TERMINAL\\Desktop\\Development\\clasificador_abc\\classificationABC.py:55\u001b[0m, in \u001b[0;36mstock_with_price\u001b[1;34m(df1, column_df1, df2, column_df2, value_column, price_column_name, stock_column_name)\u001b[0m\n\u001b[0;32m     54\u001b[0m \u001b[39mdef\u001b[39;00m \u001b[39mstock_with_price\u001b[39m(df1, column_df1,df2, column_df2,value_column, price_column_name,stock_column_name):\n\u001b[1;32m---> 55\u001b[0m     df1 \u001b[39m=\u001b[39m df1\u001b[39m.\u001b[39;49mset_index(column_df1)\n\u001b[0;32m     56\u001b[0m     df2 \u001b[39m=\u001b[39m df2\u001b[39m.\u001b[39mset_index(column_df2)\n\u001b[0;32m     57\u001b[0m     result \u001b[39m=\u001b[39m pd\u001b[39m.\u001b[39mconcat([df1, df2], axis\u001b[39m=\u001b[39m\u001b[39m1\u001b[39m, join\u001b[39m=\u001b[39m\u001b[39m\"\u001b[39m\u001b[39minner\u001b[39m\u001b[39m\"\u001b[39m)\n",
      "\u001b[1;31mAttributeError\u001b[0m: 'NoneType' object has no attribute 'set_index'"
     ]
    }
   ],
   "source": [
    "main_file_path = mp.main_process(main_file_path,'ARTÍCULO','DESCRIPCIÓN','VTA. PROMEDIO','STOCK', price_file_path,'Artículo','Precio Neto + I. Internos')"
   ]
  },
  {
   "cell_type": "code",
   "execution_count": null,
   "metadata": {},
   "outputs": [],
   "source": []
  }
 ],
 "metadata": {
  "kernelspec": {
   "display_name": "dataenv",
   "language": "python",
   "name": "python3"
  },
  "language_info": {
   "codemirror_mode": {
    "name": "ipython",
    "version": 3
   },
   "file_extension": ".py",
   "mimetype": "text/x-python",
   "name": "python",
   "nbconvert_exporter": "python",
   "pygments_lexer": "ipython3",
   "version": "3.11.2"
  },
  "orig_nbformat": 4
 },
 "nbformat": 4,
 "nbformat_minor": 2
}
