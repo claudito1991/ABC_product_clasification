{
 "cells": [
  {
   "cell_type": "code",
   "execution_count": null,
   "metadata": {},
   "outputs": [],
   "source": [
    "import pandas as pd"
   ]
  },
  {
   "cell_type": "code",
   "execution_count": null,
   "metadata": {},
   "outputs": [],
   "source": [
    "df = pd.read_excel(\"punto_de_pedido.xlsx\")"
   ]
  },
  {
   "cell_type": "code",
   "execution_count": null,
   "metadata": {},
   "outputs": [],
   "source": [
    "def column_with_desired_data(raw_dataframe, art, descrip, stock, vpd,a='',b='',c = '',d=''):\n",
    "\n",
    "    result_df = raw_dataframe[[art,descrip,vpd,stock]]\n",
    "    if a != '':\n",
    "        result_df = result_df.rename(columns={art:a})\n",
    "  \n",
    "    if  b != '':\n",
    "        result_df = result_df.rename(columns={descrip:b})\n",
    "\n",
    "    if c != '':\n",
    "        result_df = result_df.rename(columns={vpd:c})\n",
    "\n",
    "    if d != '':\n",
    "        result_df = result_df.rename(columns={stock:d})    \n",
    "         \n",
    "    return result_df"
   ]
  },
  {
   "cell_type": "code",
   "execution_count": null,
   "metadata": {},
   "outputs": [],
   "source": [
    "def sorted_and_cumulative_df(df, column_to_sort, cum_name):\n",
    "    df = df.sort_values(column_to_sort, ascending=False)\n",
    "    df[cum_name] = df[column_to_sort].cumsum()\n",
    "    return df   "
   ]
  },
  {
   "cell_type": "code",
   "execution_count": null,
   "metadata": {},
   "outputs": [],
   "source": [
    "def vpd_weight(df, cum_column, weights_name):\n",
    "    total_vpd = list(df[cum_column])[-1]\n",
    "    df[weights_name] = df[cum_column].apply(lambda x: (x/total_vpd)*100)\n",
    "    return df"
   ]
  },
  {
   "cell_type": "code",
   "execution_count": null,
   "metadata": {},
   "outputs": [],
   "source": [
    "def compare_with_limits(x,a,b):\n",
    "    if x <= a:\n",
    "        return 'A'\n",
    "    elif  x <= b and x > a:\n",
    "        return 'B'\n",
    "    else:\n",
    "        return 'C'"
   ]
  },
  {
   "cell_type": "code",
   "execution_count": null,
   "metadata": {},
   "outputs": [],
   "source": [
    "def abc_classification(df,weights_column,a=80, b=95, category_col_name = 'categoria'):\n",
    "    df[category_col_name] = df[weights_column].apply(lambda x: compare_with_limits(x,a,b))\n",
    "    return df"
   ]
  },
  {
   "cell_type": "code",
   "execution_count": null,
   "metadata": {},
   "outputs": [],
   "source": [
    "def dataframe_dictionary(complete_dataframe, category_column):\n",
    "    dict_df = {}\n",
    "    dict_df['A'] = df[df[category_column] == \"A\"]\n",
    "    dict_df['B'] = df[df[category_column] == \"B\"]\n",
    "    dict_df['C'] = df[df[category_column] == \"C\"]\n",
    "    return dict_df"
   ]
  },
  {
   "cell_type": "code",
   "execution_count": null,
   "metadata": {},
   "outputs": [],
   "source": [
    "def stock_with_price(df1, column_df1,df2, column_df2,value_column, price_column_name,stock_column_name):\n",
    "    df1 = df1.set_index(column_df1)\n",
    "    df2 = df2.set_index(column_df2)\n",
    "    result = pd.concat([df1, df2], axis=1, join=\"inner\")\n",
    "    result[value_column] = result[price_column_name] * result[stock_column_name]\n",
    "    result[value_column] = result[value_column].apply(lambda x: int(x))\n",
    "    return result"
   ]
  },
  {
   "cell_type": "code",
   "execution_count": null,
   "metadata": {},
   "outputs": [],
   "source": [
    "df = column_with_desired_data(df,'ARTÍCULO','DESCRIPCIÓN','VTA. PROMEDIO','STOCK','articulo','descripcion','venta promedio','stock')"
   ]
  },
  {
   "cell_type": "code",
   "execution_count": null,
   "metadata": {},
   "outputs": [],
   "source": [
    "df = sorted_and_cumulative_df(df,'venta promedio','acumulado VPD')"
   ]
  },
  {
   "cell_type": "code",
   "execution_count": null,
   "metadata": {},
   "outputs": [],
   "source": [
    "vpd_weight(df,'acumulado VPD','Peso de VPD acum.')"
   ]
  },
  {
   "cell_type": "code",
   "execution_count": null,
   "metadata": {},
   "outputs": [],
   "source": [
    "result_df = abc_classification(df,'Peso de VPD acum.')"
   ]
  },
  {
   "attachments": {},
   "cell_type": "markdown",
   "metadata": {},
   "source": []
  },
  {
   "cell_type": "code",
   "execution_count": null,
   "metadata": {},
   "outputs": [],
   "source": [
    "df_pc_raw = pd.read_excel('20230518130636_PRV-1_FECVIG-20230517_plantillaPreciosCompra.xlsx', header = 1)"
   ]
  },
  {
   "cell_type": "code",
   "execution_count": null,
   "metadata": {},
   "outputs": [],
   "source": [
    "df_pc_filtered = df_pc_raw[['Artículo','Precio Neto + I. Internos']]\n"
   ]
  },
  {
   "cell_type": "code",
   "execution_count": null,
   "metadata": {},
   "outputs": [],
   "source": [
    "stock_classified_with_value = stock_with_price(result_df,'articulo',df_pc_filtered,'Artículo','Valorizado','Precio Neto + I. Internos','stock')"
   ]
  },
  {
   "cell_type": "code",
   "execution_count": null,
   "metadata": {},
   "outputs": [],
   "source": [
    "df_dict = dataframe_dictionary(result_df,'categoria')"
   ]
  }
 ],
 "metadata": {
  "kernelspec": {
   "display_name": "Python 3",
   "language": "python",
   "name": "python3"
  },
  "language_info": {
   "codemirror_mode": {
    "name": "ipython",
    "version": 3
   },
   "file_extension": ".py",
   "mimetype": "text/x-python",
   "name": "python",
   "nbconvert_exporter": "python",
   "pygments_lexer": "ipython3",
   "version": "3.11.2"
  },
  "orig_nbformat": 4
 },
 "nbformat": 4,
 "nbformat_minor": 2
}
