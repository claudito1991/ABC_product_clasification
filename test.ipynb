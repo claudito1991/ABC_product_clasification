{
 "cells": [
  {
   "cell_type": "code",
   "execution_count": 111,
   "metadata": {},
   "outputs": [],
   "source": [
    "import pandas as pd\n",
    "import xlsxwriter"
   ]
  },
  {
   "cell_type": "code",
   "execution_count": 112,
   "metadata": {},
   "outputs": [],
   "source": [
    "df = pd.read_excel(\"punto_de_pedido.xlsx\")"
   ]
  },
  {
   "cell_type": "code",
   "execution_count": 113,
   "metadata": {},
   "outputs": [],
   "source": [
    "def column_with_desired_data(raw_dataframe, art, descrip, vpd, stock ,a='',b='',c = '',d=''):\n",
    "\n",
    "    result_df = raw_dataframe[[art,descrip,vpd,stock]]\n",
    "    if a != '':\n",
    "        result_df = result_df.rename(columns={art:a})\n",
    "  \n",
    "    if  b != '':\n",
    "        result_df = result_df.rename(columns={descrip:b})\n",
    "\n",
    "    if c != '':\n",
    "        result_df = result_df.rename(columns={vpd:c})\n",
    "\n",
    "    if d != '':\n",
    "        result_df = result_df.rename(columns={stock:d})    \n",
    "         \n",
    "    return result_df"
   ]
  },
  {
   "cell_type": "code",
   "execution_count": 114,
   "metadata": {},
   "outputs": [],
   "source": [
    "def sorted_and_cumulative_df(df, column_to_sort, cum_name):\n",
    "    df = df.sort_values(column_to_sort, ascending=False)\n",
    "    df[cum_name] = df[column_to_sort].cumsum()\n",
    "    return df   "
   ]
  },
  {
   "cell_type": "code",
   "execution_count": 115,
   "metadata": {},
   "outputs": [],
   "source": [
    "def vpd_weight(df, cum_column, weights_name):\n",
    "    total_vpd = list(df[cum_column])[-1]\n",
    "    df[weights_name] = df[cum_column].apply(lambda x: (x/total_vpd)*100)\n",
    "    return df"
   ]
  },
  {
   "cell_type": "code",
   "execution_count": 116,
   "metadata": {},
   "outputs": [],
   "source": [
    "def compare_with_limits(x,a,b):\n",
    "    if x <= a:\n",
    "        return 'A'\n",
    "    elif  x <= b and x > a:\n",
    "        return 'B'\n",
    "    else:\n",
    "        return 'C'"
   ]
  },
  {
   "cell_type": "code",
   "execution_count": 117,
   "metadata": {},
   "outputs": [],
   "source": [
    "def abc_classification(df,weights_column,a=80, b=95, category_col_name = 'categoria'):\n",
    "    df[category_col_name] = df[weights_column].apply(lambda x: compare_with_limits(x,a,b))\n",
    "    return df"
   ]
  },
  {
   "cell_type": "code",
   "execution_count": 118,
   "metadata": {},
   "outputs": [],
   "source": [
    "def dataframe_dictionary(complete_dataframe, category_column):\n",
    "    dict_df = {}\n",
    "    dict_df['A'] = complete_dataframe[complete_dataframe[category_column] == \"A\"]\n",
    "    dict_df['B'] = complete_dataframe[complete_dataframe[category_column] == \"B\"]\n",
    "    dict_df['C'] = complete_dataframe[complete_dataframe[category_column] == \"C\"]\n",
    "    return dict_df"
   ]
  },
  {
   "cell_type": "code",
   "execution_count": 119,
   "metadata": {},
   "outputs": [],
   "source": [
    "def stock_with_price(df1, column_df1,df2, column_df2,value_column, price_column_name,stock_column_name):\n",
    "    df1 = df1.set_index(column_df1)\n",
    "    df2 = df2.set_index(column_df2)\n",
    "    result = pd.concat([df1, df2], axis=1, join=\"inner\")\n",
    "    result[value_column] = result[price_column_name] * result[stock_column_name]\n",
    "    result[value_column] = result[value_column].apply(lambda x: int(x))\n",
    "    return result"
   ]
  },
  {
   "cell_type": "code",
   "execution_count": 120,
   "metadata": {},
   "outputs": [],
   "source": [
    "def delete_rows_from_df(df,article_column,*args):\n",
    "    for i in args:\n",
    "        df = df[df[article_column] != i]\n",
    "    return df"
   ]
  },
  {
   "cell_type": "code",
   "execution_count": null,
   "metadata": {},
   "outputs": [],
   "source": []
  },
  {
   "cell_type": "code",
   "execution_count": 121,
   "metadata": {},
   "outputs": [],
   "source": [
    "df = column_with_desired_data(df,'ARTÍCULO','DESCRIPCIÓN','VTA. PROMEDIO','STOCK','articulo','descripcion','venta promedio','stock')"
   ]
  },
  {
   "cell_type": "code",
   "execution_count": 122,
   "metadata": {},
   "outputs": [],
   "source": [
    "df = delete_rows_from_df(df,'articulo',2731,2776,2705)"
   ]
  },
  {
   "cell_type": "code",
   "execution_count": 123,
   "metadata": {},
   "outputs": [],
   "source": [
    "df = sorted_and_cumulative_df(df,'venta promedio','acumulado VPD')"
   ]
  },
  {
   "cell_type": "code",
   "execution_count": null,
   "metadata": {},
   "outputs": [],
   "source": []
  },
  {
   "cell_type": "code",
   "execution_count": 124,
   "metadata": {},
   "outputs": [],
   "source": [
    " df = vpd_weight(df,'acumulado VPD','Peso de VPD acum.')"
   ]
  },
  {
   "cell_type": "code",
   "execution_count": 125,
   "metadata": {},
   "outputs": [],
   "source": [
    "result_df = abc_classification(df,'Peso de VPD acum.')"
   ]
  },
  {
   "attachments": {},
   "cell_type": "markdown",
   "metadata": {},
   "source": []
  },
  {
   "cell_type": "code",
   "execution_count": 126,
   "metadata": {},
   "outputs": [],
   "source": [
    "df_pc_raw = pd.read_excel('20230518130636_PRV-1_FECVIG-20230517_plantillaPreciosCompra.xlsx', header = 1)"
   ]
  },
  {
   "cell_type": "code",
   "execution_count": 127,
   "metadata": {},
   "outputs": [],
   "source": [
    "df_pc_filtered = df_pc_raw[['Artículo','Precio Neto + I. Internos']]\n"
   ]
  },
  {
   "cell_type": "code",
   "execution_count": 128,
   "metadata": {},
   "outputs": [],
   "source": [
    "stock_classified_with_value = stock_with_price(result_df,'articulo',df_pc_filtered,'Artículo','Valorizado','Precio Neto + I. Internos','stock')"
   ]
  },
  {
   "cell_type": "code",
   "execution_count": 129,
   "metadata": {},
   "outputs": [
    {
     "data": {
      "text/html": [
       "<div>\n",
       "<style scoped>\n",
       "    .dataframe tbody tr th:only-of-type {\n",
       "        vertical-align: middle;\n",
       "    }\n",
       "\n",
       "    .dataframe tbody tr th {\n",
       "        vertical-align: top;\n",
       "    }\n",
       "\n",
       "    .dataframe thead th {\n",
       "        text-align: right;\n",
       "    }\n",
       "</style>\n",
       "<table border=\"1\" class=\"dataframe\">\n",
       "  <thead>\n",
       "    <tr style=\"text-align: right;\">\n",
       "      <th></th>\n",
       "      <th>descripcion</th>\n",
       "      <th>venta promedio</th>\n",
       "      <th>stock</th>\n",
       "      <th>acumulado VPD</th>\n",
       "      <th>Peso de VPD acum.</th>\n",
       "      <th>categoria</th>\n",
       "      <th>Precio Neto + I. Internos</th>\n",
       "      <th>Valorizado</th>\n",
       "    </tr>\n",
       "  </thead>\n",
       "  <tbody>\n",
       "    <tr>\n",
       "      <th>7038</th>\n",
       "      <td>BRAHMA - X12 1000RET#</td>\n",
       "      <td>1056.42</td>\n",
       "      <td>3644.50</td>\n",
       "      <td>1056.42</td>\n",
       "      <td>31.084982</td>\n",
       "      <td>A</td>\n",
       "      <td>4269.638</td>\n",
       "      <td>15560695</td>\n",
       "    </tr>\n",
       "    <tr>\n",
       "      <th>7634</th>\n",
       "      <td>BRAHMA - 4X6 LAT 473</td>\n",
       "      <td>289.64</td>\n",
       "      <td>1160.21</td>\n",
       "      <td>1346.06</td>\n",
       "      <td>39.607590</td>\n",
       "      <td>A</td>\n",
       "      <td>4912.105</td>\n",
       "      <td>5699073</td>\n",
       "    </tr>\n",
       "    <tr>\n",
       "      <th>25668</th>\n",
       "      <td>PEPSI NF PET X6 500CC</td>\n",
       "      <td>125.88</td>\n",
       "      <td>446.17</td>\n",
       "      <td>1471.94</td>\n",
       "      <td>43.311588</td>\n",
       "      <td>A</td>\n",
       "      <td>894.73</td>\n",
       "      <td>399201</td>\n",
       "    </tr>\n",
       "    <tr>\n",
       "      <th>7026</th>\n",
       "      <td>QUILMES - X12 1000RET</td>\n",
       "      <td>102.76</td>\n",
       "      <td>224.42</td>\n",
       "      <td>1574.70</td>\n",
       "      <td>46.335284</td>\n",
       "      <td>A</td>\n",
       "      <td>4015.173</td>\n",
       "      <td>901085</td>\n",
       "    </tr>\n",
       "    <tr>\n",
       "      <th>25644</th>\n",
       "      <td>7-UP NF PET X6 500CC</td>\n",
       "      <td>99.96</td>\n",
       "      <td>487.00</td>\n",
       "      <td>1674.66</td>\n",
       "      <td>49.276590</td>\n",
       "      <td>A</td>\n",
       "      <td>883.783</td>\n",
       "      <td>430402</td>\n",
       "    </tr>\n",
       "    <tr>\n",
       "      <th>...</th>\n",
       "      <td>...</td>\n",
       "      <td>...</td>\n",
       "      <td>...</td>\n",
       "      <td>...</td>\n",
       "      <td>...</td>\n",
       "      <td>...</td>\n",
       "      <td>...</td>\n",
       "      <td>...</td>\n",
       "    </tr>\n",
       "    <tr>\n",
       "      <th>21973</th>\n",
       "      <td>PEPSI NF PET X12 500</td>\n",
       "      <td>0.00</td>\n",
       "      <td>0.00</td>\n",
       "      <td>3398.49</td>\n",
       "      <td>100.000000</td>\n",
       "      <td>C</td>\n",
       "      <td>1789.46</td>\n",
       "      <td>0</td>\n",
       "    </tr>\n",
       "    <tr>\n",
       "      <th>22185</th>\n",
       "      <td>GLACIAR SG PET X6 750 222 PC</td>\n",
       "      <td>0.00</td>\n",
       "      <td>0.00</td>\n",
       "      <td>3398.49</td>\n",
       "      <td>100.000000</td>\n",
       "      <td>C</td>\n",
       "      <td>1467.257</td>\n",
       "      <td>0</td>\n",
       "    </tr>\n",
       "    <tr>\n",
       "      <th>27488</th>\n",
       "      <td>BRAHMA MUSICA RET X12 1000CC</td>\n",
       "      <td>0.00</td>\n",
       "      <td>0.00</td>\n",
       "      <td>3398.49</td>\n",
       "      <td>100.000000</td>\n",
       "      <td>C</td>\n",
       "      <td>4269.638</td>\n",
       "      <td>0</td>\n",
       "    </tr>\n",
       "    <tr>\n",
       "      <th>22329</th>\n",
       "      <td>NOVECENTO MALBEC OW X6 750CC</td>\n",
       "      <td>0.00</td>\n",
       "      <td>0.00</td>\n",
       "      <td>3398.49</td>\n",
       "      <td>100.000000</td>\n",
       "      <td>C</td>\n",
       "      <td>3872.176</td>\n",
       "      <td>0</td>\n",
       "    </tr>\n",
       "    <tr>\n",
       "      <th>24116</th>\n",
       "      <td>PDTOROS PET POM SIN AZUCARES X6 1500CC</td>\n",
       "      <td>0.00</td>\n",
       "      <td>0.00</td>\n",
       "      <td>3398.49</td>\n",
       "      <td>100.000000</td>\n",
       "      <td>C</td>\n",
       "      <td>1967.418</td>\n",
       "      <td>0</td>\n",
       "    </tr>\n",
       "  </tbody>\n",
       "</table>\n",
       "<p>330 rows × 8 columns</p>\n",
       "</div>"
      ],
      "text/plain": [
       "                                  descripcion  venta promedio    stock   \n",
       "7038                    BRAHMA - X12 1000RET#         1056.42  3644.50  \\\n",
       "7634                     BRAHMA - 4X6 LAT 473          289.64  1160.21   \n",
       "25668                   PEPSI NF PET X6 500CC          125.88   446.17   \n",
       "7026                    QUILMES - X12 1000RET          102.76   224.42   \n",
       "25644                    7-UP NF PET X6 500CC           99.96   487.00   \n",
       "...                                       ...             ...      ...   \n",
       "21973                    PEPSI NF PET X12 500            0.00     0.00   \n",
       "22185            GLACIAR SG PET X6 750 222 PC            0.00     0.00   \n",
       "27488            BRAHMA MUSICA RET X12 1000CC            0.00     0.00   \n",
       "22329            NOVECENTO MALBEC OW X6 750CC            0.00     0.00   \n",
       "24116  PDTOROS PET POM SIN AZUCARES X6 1500CC            0.00     0.00   \n",
       "\n",
       "       acumulado VPD  Peso de VPD acum. categoria Precio Neto + I. Internos   \n",
       "7038         1056.42          31.084982         A                  4269.638  \\\n",
       "7634         1346.06          39.607590         A                  4912.105   \n",
       "25668        1471.94          43.311588         A                    894.73   \n",
       "7026         1574.70          46.335284         A                  4015.173   \n",
       "25644        1674.66          49.276590         A                   883.783   \n",
       "...              ...                ...       ...                       ...   \n",
       "21973        3398.49         100.000000         C                   1789.46   \n",
       "22185        3398.49         100.000000         C                  1467.257   \n",
       "27488        3398.49         100.000000         C                  4269.638   \n",
       "22329        3398.49         100.000000         C                  3872.176   \n",
       "24116        3398.49         100.000000         C                  1967.418   \n",
       "\n",
       "       Valorizado  \n",
       "7038     15560695  \n",
       "7634      5699073  \n",
       "25668      399201  \n",
       "7026       901085  \n",
       "25644      430402  \n",
       "...           ...  \n",
       "21973           0  \n",
       "22185           0  \n",
       "27488           0  \n",
       "22329           0  \n",
       "24116           0  \n",
       "\n",
       "[330 rows x 8 columns]"
      ]
     },
     "execution_count": 129,
     "metadata": {},
     "output_type": "execute_result"
    }
   ],
   "source": [
    "stock_classified_with_value"
   ]
  },
  {
   "cell_type": "code",
   "execution_count": 130,
   "metadata": {},
   "outputs": [],
   "source": [
    "df_dict = dataframe_dictionary(stock_classified_with_value,'categoria')"
   ]
  },
  {
   "cell_type": "code",
   "execution_count": null,
   "metadata": {},
   "outputs": [],
   "source": [
    "#[{'points': 50, 'time': '5:00', 'year': 2010}, \n",
    " #{'points': 25, 'time': '6:00', 'month': \"february\"}, \n",
    "# {'points':90, 'time': '9:00', 'month': 'january'}, \n",
    " #{'points_h1':20, 'month': 'june'}]*/"
   ]
  },
  {
   "cell_type": "code",
   "execution_count": 178,
   "metadata": {},
   "outputs": [],
   "source": [
    "def abc_statistics(complete_dataframe, classification_column,value_column,a=80,b=95):\n",
    "    total_value = complete_dataframe[value_column].sum()\n",
    "    lista_df=[]\n",
    "\n",
    "    category_list=['A','B','C']\n",
    "    col_headers = ['Rotación','Valorizado','Peso porcentual(%)','Target peso porcentual(%)']\n",
    "\n",
    "    for i in category_list:\n",
    "            aux_list=[]\n",
    "            aux_list.append(i)\n",
    "            aux_list.append(complete_dataframe[complete_dataframe[classification_column] == i][value_column].sum())\n",
    "            aux_list.append(round(complete_dataframe[complete_dataframe[classification_column] == i][value_column].sum()/total_value*100,2))\n",
    "            if(i == 'A'):\n",
    "                aux_list.append(a)\n",
    "            elif(i == 'B'):\n",
    "                aux_list.append(b-a)\n",
    "            else:\n",
    "                aux_list.append(100-b)\n",
    "            lista_df.append(aux_list)\n",
    "\n",
    "    df_stats = pd.DataFrame(lista_df)\n",
    "    df_stats = df_stats.rename(columns={0:'Categoría',1:'Valorizado',2:'Peso porcentual(%)',3:'Target peso porcentual(%)'})\n",
    "    return df_stats\n"
   ]
  },
  {
   "cell_type": "code",
   "execution_count": null,
   "metadata": {},
   "outputs": [],
   "source": []
  },
  {
   "cell_type": "code",
   "execution_count": 179,
   "metadata": {},
   "outputs": [],
   "source": [
    "df_stats = abc_statistics(stock_classified_with_value,'categoria','Valorizado')"
   ]
  },
  {
   "cell_type": "code",
   "execution_count": 180,
   "metadata": {},
   "outputs": [
    {
     "data": {
      "text/html": [
       "<div>\n",
       "<style scoped>\n",
       "    .dataframe tbody tr th:only-of-type {\n",
       "        vertical-align: middle;\n",
       "    }\n",
       "\n",
       "    .dataframe tbody tr th {\n",
       "        vertical-align: top;\n",
       "    }\n",
       "\n",
       "    .dataframe thead th {\n",
       "        text-align: right;\n",
       "    }\n",
       "</style>\n",
       "<table border=\"1\" class=\"dataframe\">\n",
       "  <thead>\n",
       "    <tr style=\"text-align: right;\">\n",
       "      <th></th>\n",
       "      <th>Categoría</th>\n",
       "      <th>Valorizado</th>\n",
       "      <th>Peso porcentual(%)</th>\n",
       "      <th>Target peso porcentual(%)</th>\n",
       "    </tr>\n",
       "  </thead>\n",
       "  <tbody>\n",
       "    <tr>\n",
       "      <th>0</th>\n",
       "      <td>A</td>\n",
       "      <td>87768549</td>\n",
       "      <td>36.08</td>\n",
       "      <td>80</td>\n",
       "    </tr>\n",
       "    <tr>\n",
       "      <th>1</th>\n",
       "      <td>B</td>\n",
       "      <td>62788743</td>\n",
       "      <td>25.81</td>\n",
       "      <td>15</td>\n",
       "    </tr>\n",
       "    <tr>\n",
       "      <th>2</th>\n",
       "      <td>C</td>\n",
       "      <td>92685799</td>\n",
       "      <td>38.10</td>\n",
       "      <td>5</td>\n",
       "    </tr>\n",
       "  </tbody>\n",
       "</table>\n",
       "</div>"
      ],
      "text/plain": [
       "  Categoría  Valorizado  Peso porcentual(%)  Target peso porcentual(%)\n",
       "0         A    87768549               36.08                         80\n",
       "1         B    62788743               25.81                         15\n",
       "2         C    92685799               38.10                          5"
      ]
     },
     "execution_count": 180,
     "metadata": {},
     "output_type": "execute_result"
    }
   ],
   "source": [
    "df_stats    "
   ]
  },
  {
   "cell_type": "code",
   "execution_count": 131,
   "metadata": {},
   "outputs": [
    {
     "data": {
      "text/plain": [
       "87768549"
      ]
     },
     "execution_count": 131,
     "metadata": {},
     "output_type": "execute_result"
    }
   ],
   "source": [
    "df_dict['A']['Valorizado'].sum()"
   ]
  },
  {
   "cell_type": "code",
   "execution_count": 132,
   "metadata": {},
   "outputs": [
    {
     "data": {
      "text/plain": [
       "62788743"
      ]
     },
     "execution_count": 132,
     "metadata": {},
     "output_type": "execute_result"
    }
   ],
   "source": [
    "df_dict['B']['Valorizado'].sum()"
   ]
  },
  {
   "cell_type": "code",
   "execution_count": 133,
   "metadata": {},
   "outputs": [
    {
     "data": {
      "text/plain": [
       "92685799"
      ]
     },
     "execution_count": 133,
     "metadata": {},
     "output_type": "execute_result"
    }
   ],
   "source": [
    "df_dict['C']['Valorizado'].sum()"
   ]
  },
  {
   "cell_type": "code",
   "execution_count": 183,
   "metadata": {},
   "outputs": [],
   "source": [
    "def export_excel(df_dict, df_stats, file_name):\n",
    "    writer = pd.ExcelWriter(file_name + \".xlsx\", engine=\"xlsxwriter\")\n",
    "\n",
    "\n",
    "    for i in df_dict:\n",
    "        df_dict[i].to_excel(writer, sheet_name=i)\n",
    "        workbook = writer.book\n",
    "        worksheet = writer.sheets[i]\n",
    "        cell_format = workbook.add_format({\"border\": 1})\n",
    "\n",
    "        for j in range(140):\n",
    "            worksheet.set_row(j, 25, cell_format)\n",
    "            worksheet.set_column(j, width=10, last_col=12)\n",
    "            if j == 2:\n",
    "                worksheet.set_column(j, width=42, last_col=12)\n",
    "    df_stats.to_excel(writer, sheet_name='Stats')\n",
    "    workbook = writer.book\n",
    "    worksheet = writer.sheets[i]\n",
    "    cell_format = workbook.add_format({\"border\": 1})\n",
    "    writer.close()"
   ]
  },
  {
   "cell_type": "code",
   "execution_count": 184,
   "metadata": {},
   "outputs": [],
   "source": [
    "export_excel(df_dict, df_stats, 'Planilla procesada ABC')"
   ]
  },
  {
   "cell_type": "code",
   "execution_count": null,
   "metadata": {},
   "outputs": [],
   "source": []
  }
 ],
 "metadata": {
  "kernelspec": {
   "display_name": "Python 3",
   "language": "python",
   "name": "python3"
  },
  "language_info": {
   "codemirror_mode": {
    "name": "ipython",
    "version": 3
   },
   "file_extension": ".py",
   "mimetype": "text/x-python",
   "name": "python",
   "nbconvert_exporter": "python",
   "pygments_lexer": "ipython3",
   "version": "3.11.2"
  },
  "orig_nbformat": 4
 },
 "nbformat": 4,
 "nbformat_minor": 2
}
