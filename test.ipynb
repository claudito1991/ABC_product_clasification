{
 "cells": [
  {
   "cell_type": "code",
   "execution_count": 1,
   "metadata": {},
   "outputs": [],
   "source": [
    "import pandas as pd\n",
    "import xlsxwriter"
   ]
  },
  {
   "cell_type": "code",
   "execution_count": 2,
   "metadata": {},
   "outputs": [],
   "source": [
    "df = pd.read_excel(\"punto_de_pedido.xlsx\")"
   ]
  },
  {
   "cell_type": "code",
   "execution_count": 3,
   "metadata": {},
   "outputs": [],
   "source": [
    "def column_with_desired_data(raw_dataframe, art, descrip, vpd, stock ,a='',b='',c = '',d=''):\n",
    "\n",
    "    result_df = raw_dataframe[[art,descrip,vpd,stock]]\n",
    "    if a != '':\n",
    "        result_df = result_df.rename(columns={art:a})\n",
    "  \n",
    "    if  b != '':\n",
    "        result_df = result_df.rename(columns={descrip:b})\n",
    "\n",
    "    if c != '':\n",
    "        result_df = result_df.rename(columns={vpd:c})\n",
    "\n",
    "    if d != '':\n",
    "        result_df = result_df.rename(columns={stock:d})    \n",
    "         \n",
    "    return result_df"
   ]
  },
  {
   "cell_type": "code",
   "execution_count": 4,
   "metadata": {},
   "outputs": [],
   "source": [
    "def sorted_and_cumulative_df(df, column_to_sort, cum_name):\n",
    "    df = df.sort_values(column_to_sort, ascending=False)\n",
    "    df[cum_name] = df[column_to_sort].cumsum()\n",
    "    return df   "
   ]
  },
  {
   "cell_type": "code",
   "execution_count": 5,
   "metadata": {},
   "outputs": [],
   "source": [
    "def vpd_weight(df, cum_column, weights_name):\n",
    "    total_vpd = list(df[cum_column])[-1]\n",
    "    df[weights_name] = df[cum_column].apply(lambda x: (x/total_vpd)*100)\n",
    "    return df"
   ]
  },
  {
   "cell_type": "code",
   "execution_count": 6,
   "metadata": {},
   "outputs": [],
   "source": [
    "def compare_with_limits(x,a,b):\n",
    "    if x <= a:\n",
    "        return 'A'\n",
    "    elif  x <= b and x > a:\n",
    "        return 'B'\n",
    "    else:\n",
    "        return 'C'"
   ]
  },
  {
   "cell_type": "code",
   "execution_count": 7,
   "metadata": {},
   "outputs": [],
   "source": [
    "def abc_classification(df,weights_column,a=80, b=95, category_col_name = 'categoria'):\n",
    "    df[category_col_name] = df[weights_column].apply(lambda x: compare_with_limits(x,a,b))\n",
    "    return df"
   ]
  },
  {
   "cell_type": "code",
   "execution_count": 8,
   "metadata": {},
   "outputs": [],
   "source": [
    "def dataframe_dictionary(complete_dataframe, category_column):\n",
    "    dict_df = {}\n",
    "    dict_df['A'] = complete_dataframe[complete_dataframe[category_column] == \"A\"]\n",
    "    dict_df['B'] = complete_dataframe[complete_dataframe[category_column] == \"B\"]\n",
    "    dict_df['C'] = complete_dataframe[complete_dataframe[category_column] == \"C\"]\n",
    "    return dict_df"
   ]
  },
  {
   "cell_type": "code",
   "execution_count": 9,
   "metadata": {},
   "outputs": [],
   "source": [
    "def stock_with_price(df1, column_df1,df2, column_df2,value_column, price_column_name,stock_column_name):\n",
    "    df1 = df1.set_index(column_df1)\n",
    "    df2 = df2.set_index(column_df2)\n",
    "    result = pd.concat([df1, df2], axis=1, join=\"inner\")\n",
    "    result[value_column] = result[price_column_name] * result[stock_column_name]\n",
    "    result[value_column] = result[value_column].apply(lambda x: int(x))\n",
    "    return result"
   ]
  },
  {
   "cell_type": "code",
   "execution_count": 10,
   "metadata": {},
   "outputs": [],
   "source": [
    "def delete_rows_from_df(df,article_column,*args):\n",
    "    for i in args:\n",
    "        df = df[df[article_column] != i]\n",
    "    return df"
   ]
  },
  {
   "cell_type": "code",
   "execution_count": 11,
   "metadata": {},
   "outputs": [],
   "source": [
    "def abc_statistics(complete_dataframe, classification_column,value_column,a=80,b=95):\n",
    "    total_value = complete_dataframe[value_column].sum()\n",
    "    lista_df=[]\n",
    "\n",
    "    category_list=['A','B','C']\n",
    "    col_headers = ['Rotación','Valorizado','Peso porcentual(%)','Target peso porcentual(%)']\n",
    "\n",
    "    for i in category_list:\n",
    "            aux_list=[]\n",
    "            aux_list.append(i)\n",
    "            aux_list.append(complete_dataframe[complete_dataframe[classification_column] == i][value_column].sum())\n",
    "            aux_list.append(round(complete_dataframe[complete_dataframe[classification_column] == i][value_column].sum()/total_value*100,2))\n",
    "            if(i == 'A'):\n",
    "                aux_list.append(a)\n",
    "            elif(i == 'B'):\n",
    "                aux_list.append(b-a)\n",
    "            else:\n",
    "                aux_list.append(100-b)\n",
    "            lista_df.append(aux_list)\n",
    "\n",
    "    df_stats = pd.DataFrame(lista_df)\n",
    "    df_stats = df_stats.rename(columns={0:'Categoría',1:'Valorizado',2:'Peso porcentual(%)',3:'Target peso porcentual(%)'})\n",
    "    return df_stats\n"
   ]
  },
  {
   "cell_type": "code",
   "execution_count": 12,
   "metadata": {},
   "outputs": [],
   "source": [
    "def export_excel(df_dict, df_stats, file_name):\n",
    "    writer = pd.ExcelWriter(file_name + \".xlsx\", engine=\"xlsxwriter\")\n",
    "\n",
    "\n",
    "    for i in df_dict:\n",
    "        df_dict[i].to_excel(writer, sheet_name=i)\n",
    "        workbook = writer.book\n",
    "        worksheet = writer.sheets[i]\n",
    "        cell_format = workbook.add_format({\"border\": 1})\n",
    "\n",
    "        for j in range(140):\n",
    "            worksheet.set_row(j, 25, cell_format)\n",
    "            worksheet.set_column(j, width=10, last_col=12)\n",
    "            if j == 2:\n",
    "                worksheet.set_column(j, width=42, last_col=12)\n",
    "    df_stats.to_excel(writer, sheet_name='Stats')\n",
    "    workbook = writer.book\n",
    "    worksheet = writer.sheets[i]\n",
    "    cell_format = workbook.add_format({\"border\": 1})\n",
    "    writer.close()"
   ]
  },
  {
   "cell_type": "code",
   "execution_count": 13,
   "metadata": {},
   "outputs": [],
   "source": [
    "import classificationABC as cls"
   ]
  },
  {
   "cell_type": "code",
   "execution_count": 14,
   "metadata": {},
   "outputs": [
    {
     "name": "stderr",
     "output_type": "stream",
     "text": [
      "c:\\Users\\TERMINAL\\Desktop\\Development\\clasificador_abc\\classificationABC.py:24: SettingWithCopyWarning: \n",
      "A value is trying to be set on a copy of a slice from a DataFrame.\n",
      "Try using .loc[row_indexer,col_indexer] = value instead\n",
      "\n",
      "See the caveats in the documentation: https://pandas.pydata.org/pandas-docs/stable/user_guide/indexing.html#returning-a-view-versus-a-copy\n",
      "  result_df['dias de piso'] = result_df[stock] / result_df[vpd]\n",
      "c:\\Users\\TERMINAL\\Desktop\\Development\\clasificador_abc\\classificationABC.py:25: SettingWithCopyWarning: \n",
      "A value is trying to be set on a copy of a slice from a DataFrame.\n",
      "Try using .loc[row_indexer,col_indexer] = value instead\n",
      "\n",
      "See the caveats in the documentation: https://pandas.pydata.org/pandas-docs/stable/user_guide/indexing.html#returning-a-view-versus-a-copy\n",
      "  result_df['dias de piso'] = result_df['dias de piso'].apply(lambda x: calculate_days_of_stock(x))\n"
     ]
    }
   ],
   "source": [
    "df = cls.column_with_desired_data(df,'ARTÍCULO','DESCRIPCIÓN','VTA. PROMEDIO','STOCK','articulo','descripcion','venta promedio','stock')"
   ]
  },
  {
   "cell_type": "code",
   "execution_count": 15,
   "metadata": {},
   "outputs": [
    {
     "data": {
      "text/html": [
       "<div>\n",
       "<style scoped>\n",
       "    .dataframe tbody tr th:only-of-type {\n",
       "        vertical-align: middle;\n",
       "    }\n",
       "\n",
       "    .dataframe tbody tr th {\n",
       "        vertical-align: top;\n",
       "    }\n",
       "\n",
       "    .dataframe thead th {\n",
       "        text-align: right;\n",
       "    }\n",
       "</style>\n",
       "<table border=\"1\" class=\"dataframe\">\n",
       "  <thead>\n",
       "    <tr style=\"text-align: right;\">\n",
       "      <th></th>\n",
       "      <th>articulo</th>\n",
       "      <th>descripcion</th>\n",
       "      <th>venta promedio</th>\n",
       "      <th>stock</th>\n",
       "      <th>dias de piso</th>\n",
       "    </tr>\n",
       "  </thead>\n",
       "  <tbody>\n",
       "    <tr>\n",
       "      <th>0</th>\n",
       "      <td>591</td>\n",
       "      <td>MIRINDA MANZANA * X8 PET2250</td>\n",
       "      <td>3.40</td>\n",
       "      <td>33.00</td>\n",
       "      <td>9.705882</td>\n",
       "    </tr>\n",
       "    <tr>\n",
       "      <th>1</th>\n",
       "      <td>627</td>\n",
       "      <td>MIRINDA NARANJA * X8 PET2250</td>\n",
       "      <td>11.08</td>\n",
       "      <td>41.75</td>\n",
       "      <td>3.768051</td>\n",
       "    </tr>\n",
       "    <tr>\n",
       "      <th>2</th>\n",
       "      <td>641</td>\n",
       "      <td>MIRINDA NARANJA * 4X6 LAT 354</td>\n",
       "      <td>5.39</td>\n",
       "      <td>119.75</td>\n",
       "      <td>22.217069</td>\n",
       "    </tr>\n",
       "    <tr>\n",
       "      <th>3</th>\n",
       "      <td>691</td>\n",
       "      <td>MIRINDA NARANJA * X12 PET 500#</td>\n",
       "      <td>0.00</td>\n",
       "      <td>0.00</td>\n",
       "      <td>SIN VENTA Y SIN STOCK</td>\n",
       "    </tr>\n",
       "    <tr>\n",
       "      <th>4</th>\n",
       "      <td>870</td>\n",
       "      <td>GLACIAR AGUAC/G * X6 PET1500</td>\n",
       "      <td>0.00</td>\n",
       "      <td>0.00</td>\n",
       "      <td>SIN VENTA Y SIN STOCK</td>\n",
       "    </tr>\n",
       "    <tr>\n",
       "      <th>...</th>\n",
       "      <td>...</td>\n",
       "      <td>...</td>\n",
       "      <td>...</td>\n",
       "      <td>...</td>\n",
       "      <td>...</td>\n",
       "    </tr>\n",
       "    <tr>\n",
       "      <th>330</th>\n",
       "      <td>78219</td>\n",
       "      <td>BARRA ARROZ CHOCO FRUT-LIM-SEMI X36 12GR</td>\n",
       "      <td>3.00</td>\n",
       "      <td>504.00</td>\n",
       "      <td>168.0</td>\n",
       "    </tr>\n",
       "    <tr>\n",
       "      <th>331</th>\n",
       "      <td>78221</td>\n",
       "      <td>CEREAL BOW ORIG Y CACAO CROWIE X24 12GR</td>\n",
       "      <td>0.00</td>\n",
       "      <td>0.50</td>\n",
       "      <td>SIN VENTA</td>\n",
       "    </tr>\n",
       "    <tr>\n",
       "      <th>332</th>\n",
       "      <td>78233</td>\n",
       "      <td>YERBA MATE CACHAMATE X12 500GR</td>\n",
       "      <td>0.00</td>\n",
       "      <td>40.00</td>\n",
       "      <td>SIN VENTA</td>\n",
       "    </tr>\n",
       "    <tr>\n",
       "      <th>333</th>\n",
       "      <td>78244</td>\n",
       "      <td>STA HAMACA CORONA 2021</td>\n",
       "      <td>0.03</td>\n",
       "      <td>1.13</td>\n",
       "      <td>37.666667</td>\n",
       "    </tr>\n",
       "    <tr>\n",
       "      <th>334</th>\n",
       "      <td>78263</td>\n",
       "      <td>STA TWOPACK PATAGONIA RIESGEE 0,5</td>\n",
       "      <td>0.48</td>\n",
       "      <td>1.00</td>\n",
       "      <td>2.083333</td>\n",
       "    </tr>\n",
       "  </tbody>\n",
       "</table>\n",
       "<p>335 rows × 5 columns</p>\n",
       "</div>"
      ],
      "text/plain": [
       "     articulo                               descripcion  venta promedio   \n",
       "0         591              MIRINDA MANZANA * X8 PET2250            3.40  \\\n",
       "1         627              MIRINDA NARANJA * X8 PET2250           11.08   \n",
       "2         641             MIRINDA NARANJA * 4X6 LAT 354            5.39   \n",
       "3         691            MIRINDA NARANJA * X12 PET 500#            0.00   \n",
       "4         870              GLACIAR AGUAC/G * X6 PET1500            0.00   \n",
       "..        ...                                       ...             ...   \n",
       "330     78219  BARRA ARROZ CHOCO FRUT-LIM-SEMI X36 12GR            3.00   \n",
       "331     78221   CEREAL BOW ORIG Y CACAO CROWIE X24 12GR            0.00   \n",
       "332     78233            YERBA MATE CACHAMATE X12 500GR            0.00   \n",
       "333     78244                    STA HAMACA CORONA 2021            0.03   \n",
       "334     78263         STA TWOPACK PATAGONIA RIESGEE 0,5            0.48   \n",
       "\n",
       "      stock           dias de piso  \n",
       "0     33.00               9.705882  \n",
       "1     41.75               3.768051  \n",
       "2    119.75              22.217069  \n",
       "3      0.00  SIN VENTA Y SIN STOCK  \n",
       "4      0.00  SIN VENTA Y SIN STOCK  \n",
       "..      ...                    ...  \n",
       "330  504.00                  168.0  \n",
       "331    0.50              SIN VENTA  \n",
       "332   40.00              SIN VENTA  \n",
       "333    1.13              37.666667  \n",
       "334    1.00               2.083333  \n",
       "\n",
       "[335 rows x 5 columns]"
      ]
     },
     "execution_count": 15,
     "metadata": {},
     "output_type": "execute_result"
    }
   ],
   "source": [
    "df"
   ]
  },
  {
   "cell_type": "code",
   "execution_count": 16,
   "metadata": {},
   "outputs": [],
   "source": [
    "df = delete_rows_from_df(df,'articulo',2731,2776,2705)"
   ]
  },
  {
   "cell_type": "code",
   "execution_count": 17,
   "metadata": {},
   "outputs": [],
   "source": [
    "df = sorted_and_cumulative_df(df,'venta promedio','acumulado VPD')"
   ]
  },
  {
   "cell_type": "code",
   "execution_count": 18,
   "metadata": {},
   "outputs": [],
   "source": [
    "df = vpd_weight(df,'acumulado VPD','Peso de VPD acum.')"
   ]
  },
  {
   "cell_type": "code",
   "execution_count": 19,
   "metadata": {},
   "outputs": [],
   "source": [
    "result_df = abc_classification(df,'Peso de VPD acum.')"
   ]
  },
  {
   "cell_type": "code",
   "execution_count": 20,
   "metadata": {},
   "outputs": [],
   "source": [
    "df_pc_raw = pd.read_excel('20230518130636_PRV-1_FECVIG-20230517_plantillaPreciosCompra.xlsx', header = 1)"
   ]
  },
  {
   "cell_type": "code",
   "execution_count": 21,
   "metadata": {},
   "outputs": [],
   "source": [
    "df_pc_filtered = df_pc_raw[['Artículo','Precio Neto + I. Internos']]\n"
   ]
  },
  {
   "cell_type": "code",
   "execution_count": 22,
   "metadata": {},
   "outputs": [],
   "source": [
    "stock_classified_with_value = stock_with_price(result_df,'articulo',df_pc_filtered,'Artículo','Valorizado','Precio Neto + I. Internos','stock')"
   ]
  },
  {
   "cell_type": "code",
   "execution_count": 23,
   "metadata": {},
   "outputs": [],
   "source": [
    "stock_classified_with_value = stock_classified_with_value.drop(columns=['acumulado VPD','Peso de VPD acum.'])"
   ]
  },
  {
   "cell_type": "code",
   "execution_count": 31,
   "metadata": {},
   "outputs": [],
   "source": [
    "mask_con_stock = (stock_classified_with_value['stock'] != 0) & (stock_classified_with_value['venta promedio'] > 0) "
   ]
  },
  {
   "cell_type": "code",
   "execution_count": 32,
   "metadata": {},
   "outputs": [
    {
     "data": {
      "text/html": [
       "<div>\n",
       "<style scoped>\n",
       "    .dataframe tbody tr th:only-of-type {\n",
       "        vertical-align: middle;\n",
       "    }\n",
       "\n",
       "    .dataframe tbody tr th {\n",
       "        vertical-align: top;\n",
       "    }\n",
       "\n",
       "    .dataframe thead th {\n",
       "        text-align: right;\n",
       "    }\n",
       "</style>\n",
       "<table border=\"1\" class=\"dataframe\">\n",
       "  <thead>\n",
       "    <tr style=\"text-align: right;\">\n",
       "      <th></th>\n",
       "      <th>descripcion</th>\n",
       "      <th>venta promedio</th>\n",
       "      <th>stock</th>\n",
       "      <th>dias de piso</th>\n",
       "      <th>categoria</th>\n",
       "      <th>Precio Neto + I. Internos</th>\n",
       "      <th>Valorizado</th>\n",
       "    </tr>\n",
       "  </thead>\n",
       "  <tbody>\n",
       "    <tr>\n",
       "      <th>7038</th>\n",
       "      <td>BRAHMA - X12 1000RET#</td>\n",
       "      <td>1068.63</td>\n",
       "      <td>7965.58</td>\n",
       "      <td>7.454011</td>\n",
       "      <td>A</td>\n",
       "      <td>4269.638</td>\n",
       "      <td>34010143</td>\n",
       "    </tr>\n",
       "    <tr>\n",
       "      <th>7634</th>\n",
       "      <td>BRAHMA - 4X6 LAT 473</td>\n",
       "      <td>287.12</td>\n",
       "      <td>966.46</td>\n",
       "      <td>3.366049</td>\n",
       "      <td>A</td>\n",
       "      <td>4912.105</td>\n",
       "      <td>4747352</td>\n",
       "    </tr>\n",
       "    <tr>\n",
       "      <th>25668</th>\n",
       "      <td>PEPSI NF PET X6 500CC</td>\n",
       "      <td>131.64</td>\n",
       "      <td>161.50</td>\n",
       "      <td>1.226831</td>\n",
       "      <td>A</td>\n",
       "      <td>894.73</td>\n",
       "      <td>144498</td>\n",
       "    </tr>\n",
       "    <tr>\n",
       "      <th>7026</th>\n",
       "      <td>QUILMES - X12 1000RET</td>\n",
       "      <td>106.36</td>\n",
       "      <td>98.42</td>\n",
       "      <td>0.925348</td>\n",
       "      <td>A</td>\n",
       "      <td>4015.173</td>\n",
       "      <td>395173</td>\n",
       "    </tr>\n",
       "    <tr>\n",
       "      <th>25644</th>\n",
       "      <td>7-UP NF PET X6 500CC</td>\n",
       "      <td>102.20</td>\n",
       "      <td>337.00</td>\n",
       "      <td>3.297456</td>\n",
       "      <td>A</td>\n",
       "      <td>883.783</td>\n",
       "      <td>297834</td>\n",
       "    </tr>\n",
       "    <tr>\n",
       "      <th>...</th>\n",
       "      <td>...</td>\n",
       "      <td>...</td>\n",
       "      <td>...</td>\n",
       "      <td>...</td>\n",
       "      <td>...</td>\n",
       "      <td>...</td>\n",
       "      <td>...</td>\n",
       "    </tr>\n",
       "    <tr>\n",
       "      <th>10971</th>\n",
       "      <td>PATAGO WEISS - X1 BAR 20L</td>\n",
       "      <td>0.04</td>\n",
       "      <td>5.00</td>\n",
       "      <td>125.0</td>\n",
       "      <td>C</td>\n",
       "      <td>16938.762</td>\n",
       "      <td>84693</td>\n",
       "    </tr>\n",
       "    <tr>\n",
       "      <th>78064</th>\n",
       "      <td>STA POSAVASOS ANDES ORIGEN</td>\n",
       "      <td>0.03</td>\n",
       "      <td>6.00</td>\n",
       "      <td>200.0</td>\n",
       "      <td>C</td>\n",
       "      <td>19987.891</td>\n",
       "      <td>119927</td>\n",
       "    </tr>\n",
       "    <tr>\n",
       "      <th>78244</th>\n",
       "      <td>STA HAMACA CORONA 2021</td>\n",
       "      <td>0.03</td>\n",
       "      <td>1.13</td>\n",
       "      <td>37.666667</td>\n",
       "      <td>C</td>\n",
       "      <td>114061.321</td>\n",
       "      <td>128889</td>\n",
       "    </tr>\n",
       "    <tr>\n",
       "      <th>21849</th>\n",
       "      <td>PATAGONIA VERA IPA CAN 4X6 410CC 6P CART</td>\n",
       "      <td>0.02</td>\n",
       "      <td>118.50</td>\n",
       "      <td>5925.0</td>\n",
       "      <td>C</td>\n",
       "      <td>7126.286</td>\n",
       "      <td>844464</td>\n",
       "    </tr>\n",
       "    <tr>\n",
       "      <th>78057</th>\n",
       "      <td>STA BEERMAT BUDWEISER</td>\n",
       "      <td>0.01</td>\n",
       "      <td>3.20</td>\n",
       "      <td>320.0</td>\n",
       "      <td>C</td>\n",
       "      <td>18448.574</td>\n",
       "      <td>59035</td>\n",
       "    </tr>\n",
       "  </tbody>\n",
       "</table>\n",
       "<p>216 rows × 7 columns</p>\n",
       "</div>"
      ],
      "text/plain": [
       "                                    descripcion  venta promedio    stock   \n",
       "7038                      BRAHMA - X12 1000RET#         1068.63  7965.58  \\\n",
       "7634                       BRAHMA - 4X6 LAT 473          287.12   966.46   \n",
       "25668                     PEPSI NF PET X6 500CC          131.64   161.50   \n",
       "7026                      QUILMES - X12 1000RET          106.36    98.42   \n",
       "25644                      7-UP NF PET X6 500CC          102.20   337.00   \n",
       "...                                         ...             ...      ...   \n",
       "10971                 PATAGO WEISS - X1 BAR 20L            0.04     5.00   \n",
       "78064                STA POSAVASOS ANDES ORIGEN            0.03     6.00   \n",
       "78244                    STA HAMACA CORONA 2021            0.03     1.13   \n",
       "21849  PATAGONIA VERA IPA CAN 4X6 410CC 6P CART            0.02   118.50   \n",
       "78057                     STA BEERMAT BUDWEISER            0.01     3.20   \n",
       "\n",
       "      dias de piso categoria Precio Neto + I. Internos  Valorizado  \n",
       "7038      7.454011         A                  4269.638    34010143  \n",
       "7634      3.366049         A                  4912.105     4747352  \n",
       "25668     1.226831         A                    894.73      144498  \n",
       "7026      0.925348         A                  4015.173      395173  \n",
       "25644     3.297456         A                   883.783      297834  \n",
       "...            ...       ...                       ...         ...  \n",
       "10971        125.0         C                 16938.762       84693  \n",
       "78064        200.0         C                 19987.891      119927  \n",
       "78244    37.666667         C                114061.321      128889  \n",
       "21849       5925.0         C                  7126.286      844464  \n",
       "78057        320.0         C                 18448.574       59035  \n",
       "\n",
       "[216 rows x 7 columns]"
      ]
     },
     "execution_count": 32,
     "metadata": {},
     "output_type": "execute_result"
    }
   ],
   "source": [
    "stock_classified_with_value[mask]"
   ]
  },
  {
   "cell_type": "code",
   "execution_count": 26,
   "metadata": {},
   "outputs": [],
   "source": [
    "df_dict = dataframe_dictionary(stock_classified_with_value,'categoria')"
   ]
  },
  {
   "cell_type": "code",
   "execution_count": 27,
   "metadata": {},
   "outputs": [],
   "source": [
    "df_stats = abc_statistics(stock_classified_with_value,'categoria','Valorizado')"
   ]
  },
  {
   "cell_type": "code",
   "execution_count": 28,
   "metadata": {},
   "outputs": [],
   "source": [
    "cls.export_excel(df_dict, df_stats, 'Planilla procesada ABC')"
   ]
  },
  {
   "cell_type": "code",
   "execution_count": 29,
   "metadata": {},
   "outputs": [
    {
     "data": {
      "text/plain": [
       "43"
      ]
     },
     "execution_count": 29,
     "metadata": {},
     "output_type": "execute_result"
    }
   ],
   "source": [
    "len(df_dict['A'])"
   ]
  },
  {
   "cell_type": "code",
   "execution_count": null,
   "metadata": {},
   "outputs": [],
   "source": []
  }
 ],
 "metadata": {
  "kernelspec": {
   "display_name": "Python 3",
   "language": "python",
   "name": "python3"
  },
  "language_info": {
   "codemirror_mode": {
    "name": "ipython",
    "version": 3
   },
   "file_extension": ".py",
   "mimetype": "text/x-python",
   "name": "python",
   "nbconvert_exporter": "python",
   "pygments_lexer": "ipython3",
   "version": "3.11.2"
  },
  "orig_nbformat": 4
 },
 "nbformat": 4,
 "nbformat_minor": 2
}
